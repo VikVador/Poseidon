{
 "cells": [
  {
   "cell_type": "markdown",
   "id": "a999b204-3b95-404f-93a1-90b1bda33abb",
   "metadata": {},
   "source": [
    "<hr style=\"color:#5A7D9F;\">\n",
    "<p align=\"center\">\n",
    "    <b style=\"font-size:2vw; color:#5A7D9F; font-weight:bold;\">\n",
    "    <center>Understanding Ocean Deoxygenation</center>\n",
    "    </b>\n",
    "</p>\n",
    "<hr style=\"color:#5A7D9F;\">"
   ]
  },
  {
   "cell_type": "code",
   "execution_count": 1,
   "id": "6b55dcb8-9067-463c-b876-2e45565d6240",
   "metadata": {
    "metadata": {}
   },
   "outputs": [],
   "source": [
    "# ---------- Librairies ----------\n",
    "import matplotlib.pyplot as plt\n",
    "from pathlib import Path\n",
    "import xarray as xr\n",
    "\n",
    "# ---------- Jupyter ----------\n",
    "%matplotlib inline\n",
    "plt.rcParams.update({\"font.size\": 13})\n",
    "\n",
    "# Making sure modules are reloaded when modified\n",
    "%reload_ext autoreload\n",
    "%autoreload 2"
   ]
  },
  {
   "cell_type": "markdown",
   "id": "93325884",
   "metadata": {},
   "source": [
    "<hr style=\"color:#5A7D9F;\">\n",
    "<p align=\"center\">\n",
    "    <b style=\"font-size:2vw; color:#5A7D9F; font-weight:bold;\">\n",
    "    <center>Scripts</center>\n",
    "    </b>\n",
    "</p>\n",
    "<hr style=\"color:#5A7D9F;\">"
   ]
  },
  {
   "cell_type": "code",
   "execution_count": null,
   "id": "f04f49b9",
   "metadata": {},
   "outputs": [],
   "source": [
    "%run scripts/run_training.py -b async -c scripts/configs/debug.yml"
   ]
  },
  {
   "cell_type": "markdown",
   "id": "857ac442",
   "metadata": {},
   "source": [
    "<hr style=\"color:#5A7D9F;\">\n",
    "<p align=\"center\">\n",
    "    <b style=\"font-size:2vw; color:#5A7D9F; font-weight:bold;\">\n",
    "    <center>Playground</center>\n",
    "    </b>\n",
    "</p>\n",
    "<hr style=\"color:#5A7D9F;\">"
   ]
  },
  {
   "cell_type": "code",
   "execution_count": 2,
   "id": "68d992a4",
   "metadata": {},
   "outputs": [],
   "source": [
    "from poseidon.training.load import load_backbone\n",
    "\n",
    "\n",
    "test = load_backbone(\"royal-star-1\")"
   ]
  },
  {
   "cell_type": "code",
   "execution_count": null,
   "id": "e0eb16ca",
   "metadata": {},
   "outputs": [],
   "source": [
    "test"
   ]
  },
  {
   "cell_type": "code",
   "execution_count": null,
   "id": "fc43d2d0",
   "metadata": {},
   "outputs": [],
   "source": [
    "import torch\n",
    "from poseidon.data.const import DATASET_REGION\n",
    "from poseidon.diffusion.backbone import PoseidonBackbone\n",
    "from poseidon.diffusion.denoiser import PoseidonDenoiser\n",
    "\n",
    "# Dummy configuration\n",
    "config_unet = {\n",
    "    \"kernel_size\": 3,\n",
    "    \"mod_features\": 1,\n",
    "    \"hid_channels\": [256, 256, 512, 512],\n",
    "    \"hid_blocks\": [2, 2, 1, 1],\n",
    "    \"dropout\": 0.1,\n",
    "    \"attention_heads\": {\"3\" : 8}\n",
    "}\n",
    "\n",
    "config_siren = {\n",
    "    \"features\": 32,\n",
    "    \"n_layers\": 8,\n",
    "}\n",
    "\n",
    "config_problem = {\n",
    "    \"toy_problem\": False\n",
    "}\n",
    "\n",
    "\n",
    "# Testing number of parameters\n",
    "B, C, T, H, W = 4, 225, 3, 32, 64\n",
    "\n",
    "\n",
    "# Creating a dummy denoiser\n",
    "backbone = PoseidonBackbone(\n",
    "    dimensions=(B, C, T, H, W),\n",
    "    config_unet=config_unet,\n",
    "    config_siren=config_siren,\n",
    "    config_region=DATASET_REGION,\n",
    ")\n",
    "\n",
    "denoiser = PoseidonDenoiser(backbone=backbone)\n",
    "\n",
    "print(\"Number of parameters [1e6]:\", sum(p.numel() for p in denoiser.parameters())/1e6)\n"
   ]
  },
  {
   "cell_type": "code",
   "execution_count": null,
   "id": "35f83bad",
   "metadata": {},
   "outputs": [],
   "source": []
  }
 ],
 "metadata": {
  "kernelspec": {
   "display_name": "Python 3 (ipykernel)",
   "language": "python",
   "name": "python3"
  }
 },
 "nbformat": 4,
 "nbformat_minor": 5
}
