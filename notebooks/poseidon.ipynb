{
 "cells": [
  {
   "cell_type": "markdown",
   "id": "a999b204-3b95-404f-93a1-90b1bda33abb",
   "metadata": {},
   "source": [
    "<hr style=\"color:#5A7D9F;\">\n",
    "<p align=\"center\">\n",
    "    <b style=\"font-size:2vw; color:#5A7D9F; font-weight:bold;\">\n",
    "    <center>Understanding Ocean Deoxygenation</center>\n",
    "    </b>\n",
    "</p>\n",
    "<hr style=\"color:#5A7D9F;\">\n",
    "\n",
    "Do not forget to activate the **environnement esa_diffusion**"
   ]
  },
  {
   "cell_type": "code",
   "execution_count": null,
   "id": "6b55dcb8-9067-463c-b876-2e45565d6240",
   "metadata": {
    "metadata": {}
   },
   "outputs": [],
   "source": [
    "# ---------- Librairies ----------\n",
    "import matplotlib.pyplot as plt\n",
    "\n",
    "# Pytorch\n",
    "\n",
    "# ---------- Jupyter ----------\n",
    "%matplotlib inline\n",
    "plt.rcParams.update({\"font.size\": 13})\n",
    "\n",
    "# Making sure modules are reloaded when modified\n",
    "%reload_ext autoreload\n",
    "%autoreload 2\n",
    "\n",
    "# Moving to code folder\n",
    "%cd poseidon/"
   ]
  },
  {
   "cell_type": "markdown",
   "id": "2244ee9e",
   "metadata": {},
   "source": [
    "- Can you help me simplify the code where tis possible ? Avoid repetitions for example, …\n",
    "- Change variable / functions name for clarity if you think its necessary ?\n",
    "- Complete docstrings where needed ?\n",
    "- Only add comments # if you really think they are necessary to understand, otherwise remove it"
   ]
  },
  {
   "cell_type": "markdown",
   "id": "7e9c007b-1cab-4407-a5f0-cbcdd836a569",
   "metadata": {},
   "source": [
    "<hr style=\"color:#5A7D9F;\">\n",
    "<p align=\"center\">\n",
    "    <b style=\"font-size:2vw; color:#5A7D9F; font-weight:bold;\">\n",
    "    <center>Playground</center>\n",
    "    </b>\n",
    "</p>\n",
    "<hr style=\"color:#5A7D9F;\">"
   ]
  },
  {
   "cell_type": "code",
   "execution_count": 3,
   "id": "ea7ed50b",
   "metadata": {},
   "outputs": [],
   "source": []
  },
  {
   "cell_type": "code",
   "execution_count": 5,
   "id": "672c9bcf",
   "metadata": {},
   "outputs": [],
   "source": [
    "# 1. Get Access to the data\n",
    "#\n",
    "# 2. Filter out:\n",
    "#    - Variables\n",
    "#    - Time\n",
    "#\n",
    "# 3. Compute:\n",
    "#    - Mean\n",
    "#    - Standard deviation\n",
    "#\n",
    "# 4. Save as a zarr\n",
    "#\n",
    "# Create a script that uses the tools to compute the statistics"
   ]
  },
  {
   "cell_type": "code",
   "execution_count": null,
   "id": "bbfc8daf",
   "metadata": {},
   "outputs": [],
   "source": [
    "import xarray as xr\n",
    "\n",
    "from poseidon.config import POSEIDON_STAT\n",
    "\n",
    "test = xr.open_zarr(POSEIDON_STAT)"
   ]
  },
  {
   "cell_type": "code",
   "execution_count": null,
   "id": "68770788",
   "metadata": {},
   "outputs": [],
   "source": [
    "test.compute()"
   ]
  },
  {
   "cell_type": "code",
   "execution_count": null,
   "id": "7b65c426",
   "metadata": {},
   "outputs": [],
   "source": [
    "test"
   ]
  }
 ],
 "metadata": {
  "kernelspec": {
   "display_name": "Python 3 (ipykernel)",
   "language": "python",
   "name": "python3"
  },
  "language_info": {
   "codemirror_mode": {
    "name": "ipython",
    "version": 3
   },
   "file_extension": ".py",
   "mimetype": "text/x-python",
   "name": "python",
   "nbconvert_exporter": "python",
   "pygments_lexer": "ipython3",
   "version": "3.11.10"
  }
 },
 "nbformat": 4,
 "nbformat_minor": 5
}
