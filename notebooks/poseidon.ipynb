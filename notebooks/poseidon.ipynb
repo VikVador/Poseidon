{
 "cells": [
  {
   "cell_type": "markdown",
   "id": "a999b204-3b95-404f-93a1-90b1bda33abb",
   "metadata": {},
   "source": [
    "<hr style=\"color:#5A7D9F;\">\n",
    "<p align=\"center\">\n",
    "    <b style=\"font-size:2vw; color:#5A7D9F; font-weight:bold;\">\n",
    "    <center>Understanding Ocean Deoxygenation</center>\n",
    "    </b>\n",
    "</p>\n",
    "<hr style=\"color:#5A7D9F;\">"
   ]
  },
  {
   "cell_type": "code",
   "execution_count": 1,
   "id": "6b55dcb8-9067-463c-b876-2e45565d6240",
   "metadata": {
    "metadata": {}
   },
   "outputs": [],
   "source": [
    "# ---------- Librairies ----------\n",
    "import matplotlib.pyplot as plt\n",
    "from pathlib import Path\n",
    "import xarray as xr\n",
    "\n",
    "# ---------- Jupyter ----------\n",
    "%matplotlib inline\n",
    "plt.rcParams.update({\"font.size\": 13})\n",
    "\n",
    "# Making sure modules are reloaded when modified\n",
    "%reload_ext autoreload\n",
    "%autoreload 2"
   ]
  },
  {
   "cell_type": "markdown",
   "id": "93325884",
   "metadata": {},
   "source": [
    "<hr style=\"color:#5A7D9F;\">\n",
    "<p align=\"center\">\n",
    "    <b style=\"font-size:2vw; color:#5A7D9F; font-weight:bold;\">\n",
    "    <center>Scripts</center>\n",
    "    </b>\n",
    "</p>\n",
    "<hr style=\"color:#5A7D9F;\">"
   ]
  },
  {
   "cell_type": "code",
   "execution_count": null,
   "id": "f04f49b9",
   "metadata": {},
   "outputs": [],
   "source": [
    "%run scripts/run_training.py -b async -c scripts/configs/debug.yml"
   ]
  },
  {
   "cell_type": "markdown",
   "id": "857ac442",
   "metadata": {},
   "source": [
    "<hr style=\"color:#5A7D9F;\">\n",
    "<p align=\"center\">\n",
    "    <b style=\"font-size:2vw; color:#5A7D9F; font-weight:bold;\">\n",
    "    <center>Playground</center>\n",
    "    </b>\n",
    "</p>\n",
    "<hr style=\"color:#5A7D9F;\">"
   ]
  },
  {
   "cell_type": "code",
   "execution_count": 1,
   "id": "fcbf6cd7",
   "metadata": {},
   "outputs": [
    {
     "name": "stdout",
     "output_type": "stream",
     "text": [
      "Number of parameters [1e6]: 475.314556\n",
      "Input shape: torch.Size([1, 655360])\n",
      "Output shape: torch.Size([1, 655360])\n"
     ]
    }
   ],
   "source": [
    "import torch\n",
    "from poseidon.data.const import TOY_DATASET_REGION\n",
    "from poseidon.diffusion.backbone import PoseidonBackbone\n",
    "from poseidon.diffusion.denoiser import PoseidonDenoiser\n",
    "\n",
    "# Dummy configuration\n",
    "config_unet = {\n",
    "    \"kernel_size\": 5,\n",
    "    \"mod_features\": 1,\n",
    "    \"hid_channels\": [256, 256, 384],\n",
    "    \"hid_blocks\": [3, 3, 3],\n",
    "    \"dropout\": 0.1,\n",
    "    \"attention_heads\": {\"4\" : 8}\n",
    "}\n",
    "\n",
    "config_siren = {\n",
    "    \"features\": 2,\n",
    "    \"n_layers\": 1,\n",
    "}\n",
    "\n",
    "config_problem = {\n",
    "    \"toy_problem\": True\n",
    "}\n",
    "\n",
    "\n",
    "# Testing number of parameters\n",
    "B, C, T, H, W = 1, 4, 5, 128, 256\n",
    "\n",
    "\n",
    "# Creating a dummy denoiser\n",
    "backbone = PoseidonBackbone(\n",
    "    dimensions=(B, C, T, H, W),\n",
    "    config_unet=config_unet,\n",
    "    config_siren=config_siren,\n",
    "    config_region=TOY_DATASET_REGION,\n",
    ")\n",
    "\n",
    "denoiser = PoseidonDenoiser(backbone=backbone).to(\"cuda\")\n",
    "print(\"Number of parameters [1e6]:\", sum(p.numel() for p in denoiser.parameters())/1e6)\n",
    "\n",
    "# ===== Testing Forward Pass =====\n",
    "x = torch.randn(B, (C * T * H * W)).to(\"cuda\")\n",
    "sigma = torch.randn(B, 1).to(\"cuda\")\n",
    "y = denoiser(x, sigma)\n",
    "\n",
    "print(\"Input shape:\", x.shape)\n",
    "print(\"Output shape:\", y.shape)\n"
   ]
  },
  {
   "cell_type": "code",
   "execution_count": null,
   "id": "d9caeffa",
   "metadata": {},
   "outputs": [],
   "source": [
    "Number of parameters [1e6]: 0.681432\n",
    "Number of parameters [1e6]: 0.553432\n",
    "Number of parameters [1e6]: 0.524632\n",
    "Number of parameters [1e6]: 0.486232"
   ]
  },
  {
   "cell_type": "code",
   "execution_count": null,
   "id": "7a3b1b13",
   "metadata": {},
   "outputs": [],
   "source": [
    "512 + 128"
   ]
  },
  {
   "cell_type": "code",
   "execution_count": null,
   "id": "6a617002",
   "metadata": {},
   "outputs": [],
   "source": [
    "import torch\n",
    "import torch.nn as nn\n",
    "import torch.nn.functional as F\n",
    "\n",
    "# Example tensor shape\n",
    "B, C, T, H, W = 2, 16, 10, 32, 32  # (Batch, Channels, Time, Height, Width)\n",
    "x = torch.randn(B, C, T, H, W)  # Input tensor\n",
    "\n",
    "# Define convolution (without built-in padding)\n",
    "K = 3  # Kernel size along T\n",
    "conv = nn.Conv3d(in_channels=C, out_channels=C, kernel_size=(K, 1, 1), stride=(1, 1, 1), padding=(0, 0, 0))\n",
    "\n",
    "# Apply circular padding only on the T dimension\n",
    "pad_size = K // 2  # How much to pad on each side of T\n",
    "x_padded = F.pad(x, (0, 0, 0, 0, pad_size, pad_size), mode=\"circular\")  # Pads only T\n",
    "\n",
    "print(x[0,0,:,0,0])\n",
    "print(x_padded[0,0,:,0,0])\n",
    "print(x_padded.shape)\n",
    "\n",
    "# Apply convolution\n",
    "output = conv(x_padded)\n",
    "\n",
    "# Ensure the output has the same T dimension\n",
    "print(output.shape)  # Expected: (B, C, T, H, W)\n"
   ]
  },
  {
   "cell_type": "code",
   "execution_count": null,
   "id": "3a167b09",
   "metadata": {},
   "outputs": [],
   "source": []
  }
 ],
 "metadata": {
  "kernelspec": {
   "display_name": "Python 3 (ipykernel)",
   "language": "python",
   "name": "python3"
  },
  "language_info": {
   "codemirror_mode": {
    "name": "ipython",
    "version": 3
   },
   "file_extension": ".py",
   "mimetype": "text/x-python",
   "name": "python",
   "nbconvert_exporter": "python",
   "pygments_lexer": "ipython3",
   "version": "3.11.10"
  }
 },
 "nbformat": 4,
 "nbformat_minor": 5
}
