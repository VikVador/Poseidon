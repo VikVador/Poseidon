{
 "cells": [
  {
   "cell_type": "markdown",
   "id": "a999b204-3b95-404f-93a1-90b1bda33abb",
   "metadata": {},
   "source": [
    "<hr style=\"color:#5A7D9F;\">\n",
    "<p align=\"center\">\n",
    "    <b style=\"font-size:2vw; color:#5A7D9F; font-weight:bold;\">\n",
    "    <center>Generative Models For Spatial-Based Bottom <br><br> Hypoxia Forecasting In The Black Sea</center>\n",
    "    </b>\n",
    "</p>\n",
    "<hr style=\"color:#5A7D9F;\">\n",
    "\n",
    "Do not forget to activate the **environnement esa_diffusion**"
   ]
  },
  {
   "cell_type": "code",
   "execution_count": null,
   "id": "6b55dcb8-9067-463c-b876-2e45565d6240",
   "metadata": {
    "metadata": {}
   },
   "outputs": [],
   "source": [
    "# ---------- Librairies ----------\n",
    "import os\n",
    "import sys\n",
    "import dawgz\n",
    "import wandb\n",
    "import xarray\n",
    "import random\n",
    "import numpy             as np\n",
    "import pandas            as pd\n",
    "import seaborn           as sns\n",
    "import matplotlib.pyplot as plt\n",
    "\n",
    "# Pytorch\n",
    "import torch\n",
    "import torch.nn as nn\n",
    "import torch.optim as optim\n",
    "\n",
    "# ---------- Jupyter ----------\n",
    "%matplotlib inline\n",
    "plt.rcParams.update({'font.size': 13})\n",
    "\n",
    "# Making sure modules are reloaded when modified\n",
    "%reload_ext autoreload\n",
    "%autoreload 2\n",
    "\n",
    "# Moving to code folder\n",
    "%cd poseid"
   ]
  },
  {
   "cell_type": "markdown",
   "id": "7e9c007b-1cab-4407-a5f0-cbcdd836a569",
   "metadata": {},
   "source": [
    "<hr style=\"color:#5A7D9F;\">\n",
    "<p align=\"center\">\n",
    "    <b style=\"font-size:2vw; color:#5A7D9F; font-weight:bold;\">\n",
    "    <center>Playground</center>\n",
    "    </b>\n",
    "</p>\n",
    "<hr style=\"color:#5A7D9F;\">"
   ]
  },
  {
   "cell_type": "code",
   "execution_count": 34,
   "id": "fea3f57b",
   "metadata": {},
   "outputs": [],
   "source": [
    "dataset_directory = \"training/\"\n",
    "dataset_path      = \"../../../../../../scratch/acad/bsmfc/victor/data/deep_learning_3D/\"\n",
    "\n",
    "# Extraction of the files name\n",
    "files = [f for f in os.listdir(dataset_path + dataset_directory) if os.path.isfile(os.path.join(dataset_path + dataset_directory, f))]\n",
    "\n",
    "# Creating complete path\n",
    "files = [dataset_path + dataset_directory + f for f in files]"
   ]
  },
  {
   "cell_type": "code",
   "execution_count": 35,
   "id": "cf322972",
   "metadata": {},
   "outputs": [],
   "source": [
    "import xarray as xr\n",
    "\n",
    "data = xr.open_mfdataset(files, engine=\"netcdf4\", combine=\"by_coords\")"
   ]
  },
  {
   "cell_type": "code",
   "execution_count": 38,
   "id": "e9907319",
   "metadata": {},
   "outputs": [
    {
     "data": {
      "text/plain": [
       "22.97644344"
      ]
     },
     "execution_count": 38,
     "metadata": {},
     "output_type": "execute_result"
    }
   ],
   "source": [
    "data.nbytes / 1e9"
   ]
  },
  {
   "cell_type": "code",
   "execution_count": null,
   "id": "9e0fe69d",
   "metadata": {},
   "outputs": [],
   "source": [
    "for i in range(50):\n",
    "    plt.figure(figsize=(10, 10))\n",
    "    plt.imshow(data[\"votemper\"][i, 0, :, :])\n",
    "    plt.colorbar()\n",
    "    plt.show()"
   ]
  },
  {
   "cell_type": "code",
   "execution_count": null,
   "id": "6e4576f9",
   "metadata": {},
   "outputs": [],
   "source": []
  }
 ],
 "metadata": {
  "kernelspec": {
   "display_name": "Python 3 (ipykernel)",
   "language": "python",
   "name": "python3"
  },
  "language_info": {
   "codemirror_mode": {
    "name": "ipython",
    "version": 3
   },
   "file_extension": ".py",
   "mimetype": "text/x-python",
   "name": "python",
   "nbconvert_exporter": "python",
   "pygments_lexer": "ipython3",
   "version": "3.9.18"
  }
 },
 "nbformat": 4,
 "nbformat_minor": 5
}
